{
 "cells": [
  {
   "cell_type": "markdown",
   "id": "6c250b37",
   "metadata": {},
   "source": [
    "# US Election 2012 Polls Dataset"
   ]
  },
  {
   "cell_type": "markdown",
   "id": "4dda7322",
   "metadata": {},
   "source": [
    "1. Who was being polled and what was their party affiliation?\n",
    "2. Did the poll results favor Romney or Obama?\n",
    "3. How do undecided voters effect the poll?\n",
    "4. How did voter sentiment change over time?\n",
    "5. Can we see an effect in the polls from the debates?\n"
   ]
  },
  {
   "cell_type": "code",
   "execution_count": 1,
   "id": "917fe232",
   "metadata": {},
   "outputs": [],
   "source": [
    "import pandas as pd\n",
    "from pandas import Series,DataFrame\n",
    "import numpy as np\n",
    "\n",
    "# For visualization\n",
    "import matplotlib.pyplot as plt\n",
    "import seaborn as sns\n",
    "sns.set_style('white')\n",
    "plt.style.use(\"ggplot\")\n",
    "%matplotlib inline\n",
    "import warnings\n",
    "warnings.filterwarnings(\"ignore\")\n",
    "from datetime import datetime\n",
    "\n",
    "from __future__ import division"
   ]
  },
  {
   "cell_type": "code",
   "execution_count": 2,
   "id": "4c9b0da7",
   "metadata": {},
   "outputs": [],
   "source": [
    "import requests"
   ]
  },
  {
   "cell_type": "code",
   "execution_count": 3,
   "id": "a920966f",
   "metadata": {},
   "outputs": [],
   "source": [
    "from io import StringIO"
   ]
  },
  {
   "cell_type": "code",
   "execution_count": 4,
   "id": "a8624fc9",
   "metadata": {},
   "outputs": [],
   "source": [
    "url = \"http://elections.huffingtonpost.com/pollster/2012-general-election-romney-vs-obama.csv\""
   ]
  },
  {
   "cell_type": "code",
   "execution_count": null,
   "id": "10121b1c",
   "metadata": {},
   "outputs": [],
   "source": [
    "source = requests.get(url).text"
   ]
  },
  {
   "cell_type": "code",
   "execution_count": null,
   "id": "eff22b57",
   "metadata": {},
   "outputs": [],
   "source": [
    "# Use StringIO to avoid an IO error with pandas\n",
    "poll_data = StringIO(source) "
   ]
  },
  {
   "cell_type": "code",
   "execution_count": null,
   "id": "fe408646",
   "metadata": {},
   "outputs": [],
   "source": [
    "poll_df = pd.read_csv(poll_data)"
   ]
  },
  {
   "cell_type": "code",
   "execution_count": null,
   "id": "a4f13403",
   "metadata": {},
   "outputs": [],
   "source": [
    "poll_df.info()"
   ]
  },
  {
   "cell_type": "code",
   "execution_count": null,
   "id": "84faca02",
   "metadata": {},
   "outputs": [],
   "source": [
    "poll_df.head()"
   ]
  },
  {
   "cell_type": "code",
   "execution_count": null,
   "id": "02acbb24",
   "metadata": {},
   "outputs": [],
   "source": [
    "poll_df.shape"
   ]
  },
  {
   "cell_type": "code",
   "execution_count": null,
   "id": "13b9f6d6",
   "metadata": {},
   "outputs": [],
   "source": [
    "# Checking Null Values\n",
    "poll_df.isnull().sum()"
   ]
  },
  {
   "cell_type": "code",
   "execution_count": null,
   "id": "fb217c7d",
   "metadata": {},
   "outputs": [],
   "source": [
    "poll_df.Obama.unique()"
   ]
  },
  {
   "cell_type": "code",
   "execution_count": null,
   "id": "1861879a",
   "metadata": {},
   "outputs": [],
   "source": [
    "poll_df.Romney.unique()"
   ]
  },
  {
   "cell_type": "code",
   "execution_count": null,
   "id": "6c94601c",
   "metadata": {},
   "outputs": [],
   "source": [
    "poll_df.Population.unique()"
   ]
  },
  {
   "cell_type": "code",
   "execution_count": null,
   "id": "4572575c",
   "metadata": {},
   "outputs": [],
   "source": [
    "poll_df.Undecided.unique()"
   ]
  },
  {
   "cell_type": "code",
   "execution_count": null,
   "id": "f5f7d2fc",
   "metadata": {},
   "outputs": [],
   "source": [
    "poll_df.Other.unique()"
   ]
  },
  {
   "cell_type": "code",
   "execution_count": null,
   "id": "11de38c9",
   "metadata": {},
   "outputs": [],
   "source": [
    "poll_df.Partisan.unique()"
   ]
  },
  {
   "cell_type": "code",
   "execution_count": null,
   "id": "c96945a2",
   "metadata": {},
   "outputs": [],
   "source": [
    "poll_df.Affiliation.unique()"
   ]
  },
  {
   "cell_type": "markdown",
   "id": "8e7b89cc",
   "metadata": {},
   "source": [
    "Let's delete the Question Text Column."
   ]
  },
  {
   "cell_type": "code",
   "execution_count": null,
   "id": "8c96e6ef",
   "metadata": {},
   "outputs": [],
   "source": [
    "del poll_df['Question Text']"
   ]
  },
  {
   "cell_type": "markdown",
   "id": "82977233",
   "metadata": {},
   "source": [
    "#### Exploratory Data Analysis"
   ]
  },
  {
   "cell_type": "code",
   "execution_count": null,
   "id": "76112503",
   "metadata": {},
   "outputs": [],
   "source": [
    "plt.figure(figsize=(9,9))\n",
    "poll_df['Affiliation'].value_counts(normalize=True).plot(kind = 'bar')\n",
    "plt.title('Affliation distribution', fontsize=20)\n",
    "plt.xlabel('Affliation',fontsize=15)\n",
    "plt.ylabel('% Proportion',fontsize=15)\n",
    "plt.show()"
   ]
  },
  {
   "cell_type": "markdown",
   "id": "82f15714",
   "metadata": {},
   "source": [
    "### Looks like people are overall relatively neutral, but still leaning towards Democratic affiliation. "
   ]
  },
  {
   "cell_type": "code",
   "execution_count": null,
   "id": "6622ff56",
   "metadata": {},
   "outputs": [],
   "source": [
    "plt.figure(figsize=(9,9))\n",
    "sns.countplot(x = \"Affiliation\", hue = \"Population\", data = poll_df)"
   ]
  },
  {
   "cell_type": "code",
   "execution_count": null,
   "id": "e02e161b",
   "metadata": {},
   "outputs": [],
   "source": [
    "#Looks like we have a strong showing of likely voters and Registered Voters, \n",
    "# so the poll data should hopefully be a good reflection on the populations polled."
   ]
  },
  {
   "cell_type": "markdown",
   "id": "064d8b35",
   "metadata": {},
   "source": [
    "Let's go ahead and take a look at the averages for Obama, Romney , and the polled people who remained undecided."
   ]
  },
  {
   "cell_type": "code",
   "execution_count": null,
   "id": "bc093b15",
   "metadata": {},
   "outputs": [],
   "source": [
    "poll_df.head()"
   ]
  },
  {
   "cell_type": "code",
   "execution_count": null,
   "id": "8738d92b",
   "metadata": {},
   "outputs": [],
   "source": [
    "stats_var=[\"Obama\",\"Romney\",\"Undecided\"]"
   ]
  },
  {
   "cell_type": "code",
   "execution_count": null,
   "id": "38eb5a75",
   "metadata": {},
   "outputs": [],
   "source": [
    "poll_df[stats_var].describe()"
   ]
  },
  {
   "cell_type": "code",
   "execution_count": null,
   "id": "e76797fa",
   "metadata": {},
   "outputs": [],
   "source": [
    "plt.figure(figsize=(9,9))\n",
    "sns.distplot(poll_df[\"Obama\"])\n",
    "plt.xlabel(\"Obama Supporters Percentage\")\n",
    "plt.ylabel(\"Frequency\")\n",
    "plt.show()"
   ]
  },
  {
   "cell_type": "code",
   "execution_count": null,
   "id": "efb87568",
   "metadata": {},
   "outputs": [],
   "source": [
    "plt.figure(figsize=(9,9))\n",
    "sns.distplot(poll_df[\"Romney\"])\n",
    "plt.xlabel(\"Romney Supporters Percentage\")\n",
    "plt.ylabel(\"Frequency\")\n",
    "plt.show()"
   ]
  },
  {
   "cell_type": "markdown",
   "id": "206c5499",
   "metadata": {},
   "source": [
    "Let's do a quick time series analysis of the voter sentiment by plotting Obama/Romney favor versus the Poll End Dates. "
   ]
  },
  {
   "cell_type": "code",
   "execution_count": null,
   "id": "db2eb680",
   "metadata": {},
   "outputs": [],
   "source": [
    "poll_df.plot(x='End Date',y=['Obama','Romney','Undecided'],marker='o',linestyle='', figsize=(9,9))"
   ]
  },
  {
   "cell_type": "code",
   "execution_count": null,
   "id": "6c301f9b",
   "metadata": {},
   "outputs": [],
   "source": [
    "poll_df['Difference'] = (poll_df.Obama - poll_df.Romney)/100\n",
    "\n",
    "poll_df.head()"
   ]
  },
  {
   "cell_type": "markdown",
   "id": "4728f597",
   "metadata": {},
   "source": [
    "The Difference column is Obama minus Romney, thus a positive difference indicates a leaning towards Obama in the polls."
   ]
  },
  {
   "cell_type": "code",
   "execution_count": null,
   "id": "0222c456",
   "metadata": {},
   "outputs": [],
   "source": [
    "poll_df = poll_df.groupby(['Start Date'],as_index=False).mean()"
   ]
  },
  {
   "cell_type": "code",
   "execution_count": null,
   "id": "b8c0c37c",
   "metadata": {},
   "outputs": [],
   "source": [
    "poll_df.head()"
   ]
  },
  {
   "cell_type": "code",
   "execution_count": null,
   "id": "1e1bc5ab",
   "metadata": {},
   "outputs": [],
   "source": [
    "poll_df.shape"
   ]
  },
  {
   "cell_type": "code",
   "execution_count": null,
   "id": "5ab077be",
   "metadata": {},
   "outputs": [],
   "source": [
    "poll_df.plot('Start Date','Difference',figsize=(12,4),marker='o',linestyle='-',color='purple')"
   ]
  },
  {
   "cell_type": "markdown",
   "id": "00b4439e",
   "metadata": {},
   "source": [
    "The debate dates were Oct 3rd, Oct 11, and Oct 22nd (2012). Let's plot some lines as markers and then zoom in on the month of October. In order to find where to set the x limits for the figure we need to find out where the index for the month of October in 2012 is. \n"
   ]
  },
  {
   "cell_type": "code",
   "execution_count": null,
   "id": "8a510cf4",
   "metadata": {},
   "outputs": [],
   "source": [
    "# Set row count and xlimit list\n",
    "row_in = 0\n",
    "xlimit = []\n",
    "\n",
    "# Cycle through dates until 2012-10 is found, then print row index\n",
    "for date in poll_df['Start Date']:\n",
    "    if date[0:7] == '2012-10':\n",
    "        xlimit.append(row_in)\n",
    "        row_in +=1\n",
    "    else:\n",
    "        row_in += 1\n",
    "        \n",
    "print (min(xlimit))\n",
    "print (max(xlimit))"
   ]
  },
  {
   "cell_type": "code",
   "execution_count": null,
   "id": "147b1535",
   "metadata": {},
   "outputs": [],
   "source": [
    "# Start with original figure\n",
    "fig = poll_df.plot('Start Date','Difference',figsize=(12,4),marker='o',linestyle='-',color='purple',xlim=(325,352))\n",
    "\n",
    "# Now add the debate markers\n",
    "plt.axvline(x=325+2, linewidth=4, color='grey')\n",
    "plt.axvline(x=325+8, linewidth=4, color='grey')\n",
    "plt.axvline(x=325+18, linewidth=4, color='grey')"
   ]
  },
  {
   "cell_type": "markdown",
   "id": "05031a14",
   "metadata": {},
   "source": [
    "### Thse polls reflect a dip for Obama after the second debate against Romney for a while, although the first  and third one gave him a boost."
   ]
  }
 ],
 "metadata": {
  "kernelspec": {
   "display_name": "Python 3 (ipykernel)",
   "language": "python",
   "name": "python3"
  },
  "language_info": {
   "codemirror_mode": {
    "name": "ipython",
    "version": 3
   },
   "file_extension": ".py",
   "mimetype": "text/x-python",
   "name": "python",
   "nbconvert_exporter": "python",
   "pygments_lexer": "ipython3",
   "version": "3.9.7"
  }
 },
 "nbformat": 4,
 "nbformat_minor": 5
}
